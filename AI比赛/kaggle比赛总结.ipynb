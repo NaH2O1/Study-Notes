{
 "cells": [
  {
   "cell_type": "code",
   "execution_count": 84,
   "outputs": [],
   "source": [
    "import pandas as pd\n",
    "import numpy as np\n",
    "train = pd.read_csv(r'train.csv', index_col = 'id').astype({'IsActiveMember' : np.uint8, 'HasCrCard' : np.uint8})\n",
    "test = pd.read_csv(r'test.csv', index_col = 'id').astype({'IsActiveMember' : np.uint8, 'HasCrCard' : np.uint8})\n",
    "orig_train = pd.read_csv(r'Churn_Modelling.csv', index_col = 'RowNumber')"
   ],
   "metadata": {
    "collapsed": false,
    "ExecuteTime": {
     "end_time": "2024-02-05T04:25:27.388295500Z",
     "start_time": "2024-02-05T04:25:27.139560800Z"
    }
   }
  },
  {
   "cell_type": "code",
   "execution_count": 85,
   "outputs": [],
   "source": [
    "X = pd.concat([orig_train, train]).reset_index(drop = True)\n",
    "y = X.pop('Exited')"
   ],
   "metadata": {
    "collapsed": false,
    "ExecuteTime": {
     "end_time": "2024-02-05T04:25:28.435166100Z",
     "start_time": "2024-02-05T04:25:28.397804Z"
    }
   }
  },
  {
   "cell_type": "code",
   "execution_count": 86,
   "outputs": [],
   "source": [
    "from sklearn.preprocessing import FunctionTransformer\n",
    "\n",
    "def salary_rounder(x):\n",
    "    x_copy = x.copy()\n",
    "    x_copy['EstimatedSalary'] = (x_copy['EstimatedSalary'] * 100).astype(np.uint64)\n",
    "    return x_copy\n",
    "\n",
    "SalaryRounder = FunctionTransformer(salary_rounder)"
   ],
   "metadata": {
    "collapsed": false,
    "ExecuteTime": {
     "end_time": "2024-02-05T04:25:29.436041900Z",
     "start_time": "2024-02-05T04:25:29.416679600Z"
    }
   }
  },
  {
   "cell_type": "code",
   "execution_count": 87,
   "outputs": [],
   "source": [
    "def age_rounder(x):\n",
    "    x_copy = x.copy()\n",
    "    x_copy['Age'] = (x_copy['Age'] * 10).astype(np.uint16)\n",
    "    return x_copy\n",
    "\n",
    "AgeRounder = FunctionTransformer(age_rounder)"
   ],
   "metadata": {
    "collapsed": false,
    "ExecuteTime": {
     "end_time": "2024-02-05T04:25:30.517313100Z",
     "start_time": "2024-02-05T04:25:30.508107700Z"
    }
   }
  },
  {
   "cell_type": "code",
   "execution_count": 88,
   "outputs": [],
   "source": [
    "def feature_generator(x):\n",
    "    \n",
    "    x_copy = x.copy()\n",
    "    #x_copy['IsSenior'] = (x_copy['Age'] >= 600).astype(np.uint8)\n",
    "    x_copy['IsActive_by_CreditCard'] = x_copy['HasCrCard'] * x_copy['IsActiveMember']\n",
    "    x_copy['Products_Per_Tenure'] =  x_copy['Tenure'] / x_copy['NumOfProducts']\n",
    "    x_copy['ZeroBalance'] = (x_copy['Balance'] == 0).astype(np.uint8)\n",
    "    x_copy['AgeCat'] = np.round(x_copy.Age/20).astype(np.uint16)#.astype('category')\n",
    "    x_copy['AllCat'] = x_copy['Surname']+x_copy['Geography']+x_copy['Gender']+x_copy.EstimatedSalary.astype('str')+x_copy.CreditScore.astype('str')+x_copy.Age.astype('str')+x_copy.NumOfProducts.astype('str')+x_copy.Tenure.astype('str')+x_copy.CustomerId.astype('str')#+np.round(x_copy.IsActiveMember).astype('str')\n",
    "    \n",
    "    return x_copy\n",
    "\n",
    "FeatureGenerator = FunctionTransformer(feature_generator)"
   ],
   "metadata": {
    "collapsed": false,
    "ExecuteTime": {
     "end_time": "2024-02-05T04:25:31.624900Z",
     "start_time": "2024-02-05T04:25:31.613106400Z"
    }
   }
  },
  {
   "cell_type": "code",
   "execution_count": 89,
   "outputs": [],
   "source": [
    "from category_encoders import OneHotEncoder, MEstimateEncoder, CatBoostEncoder, OrdinalEncoder\n",
    "X = SalaryRounder.fit_transform(X)\n",
    "X = AgeRounder.fit_transform(X)\n",
    "X = FeatureGenerator.fit_transform(X)"
   ],
   "metadata": {
    "collapsed": false,
    "ExecuteTime": {
     "end_time": "2024-02-05T04:25:33.243617700Z",
     "start_time": "2024-02-05T04:25:32.806292900Z"
    }
   }
  },
  {
   "cell_type": "code",
   "execution_count": 91,
   "outputs": [
    {
     "data": {
      "text/plain": "CatBoostEncoder(cols=['Surname', 'Geography', 'Gender', 'AllCat'])",
      "text/html": "<style>#sk-container-id-5 {color: black;}#sk-container-id-5 pre{padding: 0;}#sk-container-id-5 div.sk-toggleable {background-color: white;}#sk-container-id-5 label.sk-toggleable__label {cursor: pointer;display: block;width: 100%;margin-bottom: 0;padding: 0.3em;box-sizing: border-box;text-align: center;}#sk-container-id-5 label.sk-toggleable__label-arrow:before {content: \"▸\";float: left;margin-right: 0.25em;color: #696969;}#sk-container-id-5 label.sk-toggleable__label-arrow:hover:before {color: black;}#sk-container-id-5 div.sk-estimator:hover label.sk-toggleable__label-arrow:before {color: black;}#sk-container-id-5 div.sk-toggleable__content {max-height: 0;max-width: 0;overflow: hidden;text-align: left;background-color: #f0f8ff;}#sk-container-id-5 div.sk-toggleable__content pre {margin: 0.2em;color: black;border-radius: 0.25em;background-color: #f0f8ff;}#sk-container-id-5 input.sk-toggleable__control:checked~div.sk-toggleable__content {max-height: 200px;max-width: 100%;overflow: auto;}#sk-container-id-5 input.sk-toggleable__control:checked~label.sk-toggleable__label-arrow:before {content: \"▾\";}#sk-container-id-5 div.sk-estimator input.sk-toggleable__control:checked~label.sk-toggleable__label {background-color: #d4ebff;}#sk-container-id-5 div.sk-label input.sk-toggleable__control:checked~label.sk-toggleable__label {background-color: #d4ebff;}#sk-container-id-5 input.sk-hidden--visually {border: 0;clip: rect(1px 1px 1px 1px);clip: rect(1px, 1px, 1px, 1px);height: 1px;margin: -1px;overflow: hidden;padding: 0;position: absolute;width: 1px;}#sk-container-id-5 div.sk-estimator {font-family: monospace;background-color: #f0f8ff;border: 1px dotted black;border-radius: 0.25em;box-sizing: border-box;margin-bottom: 0.5em;}#sk-container-id-5 div.sk-estimator:hover {background-color: #d4ebff;}#sk-container-id-5 div.sk-parallel-item::after {content: \"\";width: 100%;border-bottom: 1px solid gray;flex-grow: 1;}#sk-container-id-5 div.sk-label:hover label.sk-toggleable__label {background-color: #d4ebff;}#sk-container-id-5 div.sk-serial::before {content: \"\";position: absolute;border-left: 1px solid gray;box-sizing: border-box;top: 0;bottom: 0;left: 50%;z-index: 0;}#sk-container-id-5 div.sk-serial {display: flex;flex-direction: column;align-items: center;background-color: white;padding-right: 0.2em;padding-left: 0.2em;position: relative;}#sk-container-id-5 div.sk-item {position: relative;z-index: 1;}#sk-container-id-5 div.sk-parallel {display: flex;align-items: stretch;justify-content: center;background-color: white;position: relative;}#sk-container-id-5 div.sk-item::before, #sk-container-id-5 div.sk-parallel-item::before {content: \"\";position: absolute;border-left: 1px solid gray;box-sizing: border-box;top: 0;bottom: 0;left: 50%;z-index: -1;}#sk-container-id-5 div.sk-parallel-item {display: flex;flex-direction: column;z-index: 1;position: relative;background-color: white;}#sk-container-id-5 div.sk-parallel-item:first-child::after {align-self: flex-end;width: 50%;}#sk-container-id-5 div.sk-parallel-item:last-child::after {align-self: flex-start;width: 50%;}#sk-container-id-5 div.sk-parallel-item:only-child::after {width: 0;}#sk-container-id-5 div.sk-dashed-wrapped {border: 1px dashed gray;margin: 0 0.4em 0.5em 0.4em;box-sizing: border-box;padding-bottom: 0.4em;background-color: white;}#sk-container-id-5 div.sk-label label {font-family: monospace;font-weight: bold;display: inline-block;line-height: 1.2em;}#sk-container-id-5 div.sk-label-container {text-align: center;}#sk-container-id-5 div.sk-container {/* jupyter's `normalize.less` sets `[hidden] { display: none; }` but bootstrap.min.css set `[hidden] { display: none !important; }` so we also need the `!important` here to be able to override the default hidden behavior on the sphinx rendered scikit-learn.org. See: https://github.com/scikit-learn/scikit-learn/issues/21755 */display: inline-block !important;position: relative;}#sk-container-id-5 div.sk-text-repr-fallback {display: none;}</style><div id=\"sk-container-id-5\" class=\"sk-top-container\"><div class=\"sk-text-repr-fallback\"><pre>CatBoostEncoder(cols=[&#x27;Surname&#x27;, &#x27;Geography&#x27;, &#x27;Gender&#x27;, &#x27;AllCat&#x27;])</pre><b>In a Jupyter environment, please rerun this cell to show the HTML representation or trust the notebook. <br />On GitHub, the HTML representation is unable to render, please try loading this page with nbviewer.org.</b></div><div class=\"sk-container\" hidden><div class=\"sk-item\"><div class=\"sk-estimator sk-toggleable\"><input class=\"sk-toggleable__control sk-hidden--visually\" id=\"sk-estimator-id-5\" type=\"checkbox\" checked><label for=\"sk-estimator-id-5\" class=\"sk-toggleable__label sk-toggleable__label-arrow\">CatBoostEncoder</label><div class=\"sk-toggleable__content\"><pre>CatBoostEncoder(cols=[&#x27;Surname&#x27;, &#x27;Geography&#x27;, &#x27;Gender&#x27;, &#x27;AllCat&#x27;])</pre></div></div></div></div></div>"
     },
     "execution_count": 91,
     "metadata": {},
     "output_type": "execute_result"
    }
   ],
   "source": [
    "encoder = CatBoostEncoder()\n",
    "encoder.fit(X, y)"
   ],
   "metadata": {
    "collapsed": false,
    "ExecuteTime": {
     "end_time": "2024-02-05T04:25:38.989800600Z",
     "start_time": "2024-02-05T04:25:37.774593800Z"
    }
   }
  },
  {
   "cell_type": "code",
   "execution_count": 92,
   "outputs": [],
   "source": [
    "X = CatBoostEncoder().fit_transform(X, y)"
   ],
   "metadata": {
    "collapsed": false,
    "ExecuteTime": {
     "end_time": "2024-02-05T04:25:45.765785300Z",
     "start_time": "2024-02-05T04:25:44.178118800Z"
    }
   }
  },
  {
   "cell_type": "code",
   "execution_count": 93,
   "outputs": [],
   "source": [
    "import torch\n",
    "device= torch.device(\"cuda:0\" if torch.cuda.is_available() else \"cpu\")"
   ],
   "metadata": {
    "collapsed": false,
    "ExecuteTime": {
     "end_time": "2024-02-05T04:25:46.941369700Z",
     "start_time": "2024-02-05T04:25:46.937089200Z"
    }
   }
  },
  {
   "cell_type": "code",
   "execution_count": 94,
   "outputs": [],
   "source": [
    "from sklearn.model_selection import train_test_split\n",
    "\n",
    "# Split the data into training and validation sets\n",
    "X_train, X_val, Y_train, Y_val = train_test_split(X, y, test_size=0.2, random_state=8888688)"
   ],
   "metadata": {
    "collapsed": false,
    "ExecuteTime": {
     "end_time": "2024-02-05T04:25:49.164098300Z",
     "start_time": "2024-02-05T04:25:49.124132300Z"
    }
   }
  },
  {
   "cell_type": "code",
   "execution_count": 95,
   "outputs": [],
   "source": [
    "X_train = torch.tensor(X_train.values, dtype=torch.float32).to(device)"
   ],
   "metadata": {
    "collapsed": false,
    "ExecuteTime": {
     "end_time": "2024-02-05T04:25:50.249505300Z",
     "start_time": "2024-02-05T04:25:50.215670400Z"
    }
   }
  },
  {
   "cell_type": "code",
   "execution_count": 96,
   "outputs": [],
   "source": [
    "Y_train = torch.tensor(Y_train.values, dtype=torch.float32)"
   ],
   "metadata": {
    "collapsed": false,
    "ExecuteTime": {
     "end_time": "2024-02-05T04:25:51.232713700Z",
     "start_time": "2024-02-05T04:25:51.210001200Z"
    }
   }
  },
  {
   "cell_type": "code",
   "execution_count": 97,
   "outputs": [],
   "source": [
    "Y_train = Y_train.unsqueeze(1).to(device)"
   ],
   "metadata": {
    "collapsed": false,
    "ExecuteTime": {
     "end_time": "2024-02-05T04:25:52.481655100Z",
     "start_time": "2024-02-05T04:25:52.462646600Z"
    }
   }
  },
  {
   "cell_type": "code",
   "execution_count": 98,
   "outputs": [],
   "source": [
    "X_val = torch.tensor(X_val.values, dtype=torch.float32).to(device)"
   ],
   "metadata": {
    "collapsed": false,
    "ExecuteTime": {
     "end_time": "2024-02-05T04:25:53.644903800Z",
     "start_time": "2024-02-05T04:25:53.624974Z"
    }
   }
  },
  {
   "cell_type": "code",
   "execution_count": 99,
   "outputs": [],
   "source": [
    "Y_val = torch.tensor(Y_val.values, dtype=torch.float32)\n",
    "Y_val = Y_val.unsqueeze(1).to(device)"
   ],
   "metadata": {
    "collapsed": false,
    "ExecuteTime": {
     "end_time": "2024-02-05T04:25:54.715229700Z",
     "start_time": "2024-02-05T04:25:54.702362600Z"
    }
   }
  },
  {
   "cell_type": "code",
   "execution_count": 100,
   "outputs": [],
   "source": [
    "import torch\n",
    "import torch.nn as nn\n",
    "import torch.nn.functional as F\n",
    "\n",
    "class Binary(nn.Module):\n",
    "    def __init__(self, input_dim):\n",
    "        super(Binary, self).__init__()\n",
    "        self.batch_norm1 = nn.BatchNorm1d(input_dim)\n",
    "        self.fc1 = nn.Linear(input_dim, 32)\n",
    "        self.batch_norm2 = nn.BatchNorm1d(32)\n",
    "        self.fc2 = nn.Linear(32, 64)\n",
    "        self.batch_norm3 = nn.BatchNorm1d(64)\n",
    "        self.fc3 = nn.Linear(64, 16)\n",
    "        self.batch_norm4 = nn.BatchNorm1d(16)\n",
    "        self.fc4 = nn.Linear(16, 4)\n",
    "        self.batch_norm5 = nn.BatchNorm1d(4)\n",
    "        self.fc5 = nn.Linear(4, 1)\n",
    "\n",
    "    def forward(self, x):\n",
    "        x = self.batch_norm1(x)\n",
    "        x = F.leaky_relu(self.fc1(x))\n",
    "        x = self.batch_norm2(x)\n",
    "        x = F.leaky_relu(self.fc2(x))\n",
    "        x = self.batch_norm3(x)\n",
    "        x = F.leaky_relu(self.fc3(x))\n",
    "        x = self.batch_norm4(x)\n",
    "        x = F.leaky_relu(self.fc4(x))\n",
    "        x = self.batch_norm5(x)\n",
    "        x = torch.sigmoid(self.fc5(x))\n",
    "        return x"
   ],
   "metadata": {
    "collapsed": false,
    "ExecuteTime": {
     "end_time": "2024-02-05T04:25:55.999062700Z",
     "start_time": "2024-02-05T04:25:55.989489100Z"
    }
   }
  },
  {
   "cell_type": "code",
   "execution_count": 101,
   "outputs": [
    {
     "name": "stdout",
     "output_type": "stream",
     "text": [
      "Epoch [10/200], Loss: 0.3982\n",
      "Epoch [20/200], Loss: 0.3215\n",
      "Epoch [30/200], Loss: 0.3170\n",
      "Epoch [40/200], Loss: 0.3144\n",
      "Epoch [50/200], Loss: 0.3135\n",
      "Epoch [60/200], Loss: 0.3134\n",
      "Epoch [70/200], Loss: 0.3160\n",
      "Epoch [80/200], Loss: 0.3154\n",
      "Epoch [90/200], Loss: 0.3157\n",
      "Epoch [100/200], Loss: 0.3146\n",
      "Epoch [110/200], Loss: 0.3136\n",
      "Epoch [120/200], Loss: 0.3136\n",
      "Epoch [130/200], Loss: 0.3127\n",
      "Epoch [140/200], Loss: 0.3127\n",
      "Epoch [150/200], Loss: 0.3123\n",
      "Epoch [160/200], Loss: 0.3117\n",
      "Epoch [170/200], Loss: 0.3119\n",
      "Epoch [180/200], Loss: 0.3135\n",
      "Epoch [190/200], Loss: 0.3138\n",
      "Epoch [200/200], Loss: 0.3151\n"
     ]
    }
   ],
   "source": [
    "model =  Binary(X_train.shape[1]).to(device)\n",
    "\n",
    "# Define the loss function and optimizer\n",
    "criterion = nn.BCELoss()\n",
    "optimizer = torch.optim.AdamW(model.parameters(), lr=1e-4)\n",
    "#scheduler = optim.lr_scheduler.StepLR(optimizer, step_size=200, gamma=0.1)\n",
    "\n",
    "# Train the model\n",
    "num_epochs = 200\n",
    "batch_size = 350\n",
    "num_batches = len(X_train) // batch_size\n",
    "loss_history=[]\n",
    "\n",
    "for epoch in range(num_epochs):\n",
    "    for i in range(num_batches):\n",
    "        start_idx = i * batch_size\n",
    "        end_idx = (i + 1) * batch_size\n",
    "        inputs = X_train[start_idx:end_idx]\n",
    "        labels = Y_train[start_idx:end_idx]\n",
    "\n",
    "        # Forward pass\n",
    "        outputs = model(inputs)\n",
    "        loss = criterion(outputs, labels)\n",
    "\n",
    "        # Backward and optimize\n",
    "        optimizer.zero_grad()\n",
    "        loss.backward()\n",
    "        optimizer.step()\n",
    "    #scheduler.step()\n",
    "    # Print the loss for every epoch\n",
    "    if (epoch + 1) % 10 == 0:\n",
    "        print(f\"Epoch [{epoch+1}/{num_epochs}], Loss: {loss.item():.4f}\")\n",
    "        loss_history.append(loss.item())"
   ],
   "metadata": {
    "collapsed": false,
    "ExecuteTime": {
     "end_time": "2024-02-05T04:28:59.977146100Z",
     "start_time": "2024-02-05T04:25:59.010574700Z"
    }
   }
  },
  {
   "cell_type": "code",
   "execution_count": 103,
   "outputs": [
    {
     "data": {
      "text/plain": "<Figure size 640x480 with 1 Axes>",
      "image/png": "[encoded data removed]"
     },
     "metadata": {},
     "output_type": "display_data"
    }
   ],
   "source": [
    "train_steps = range(1, len(loss_history) + 1)\n",
    "import matplotlib.pyplot as plt\n",
    "plt.plot(train_steps, loss_history, label='Training Loss')\n",
    "plt.xlabel('Training Steps')\n",
    "plt.ylabel('Loss')\n",
    "plt.legend()\n",
    "plt.title('Training Loss Over Time')\n",
    "plt.show()"
   ],
   "metadata": {
    "collapsed": false,
    "ExecuteTime": {
     "end_time": "2024-02-05T04:32:55.221567400Z",
     "start_time": "2024-02-05T04:32:55.102543800Z"
    }
   }
  },
  {
   "cell_type": "code",
   "execution_count": 104,
   "outputs": [],
   "source": [
    "torch.save(model.state_dict(), 'model1.pt')"
   ],
   "metadata": {
    "collapsed": false,
    "ExecuteTime": {
     "end_time": "2024-02-05T04:34:21.297440200Z",
     "start_time": "2024-02-05T04:34:21.281401700Z"
    }
   }
  },
  {
   "cell_type": "code",
   "execution_count": 105,
   "outputs": [],
   "source": [
    "X1 = test.copy()"
   ],
   "metadata": {
    "collapsed": false,
    "ExecuteTime": {
     "end_time": "2024-02-05T04:34:38.089395700Z",
     "start_time": "2024-02-05T04:34:38.065388Z"
    }
   }
  },
  {
   "cell_type": "code",
   "execution_count": 106,
   "outputs": [],
   "source": [
    "from category_encoders import OneHotEncoder, MEstimateEncoder, CatBoostEncoder, OrdinalEncoder\n",
    "X1 = SalaryRounder.fit_transform(X1)\n",
    "X1 = AgeRounder.fit_transform(X1)\n",
    "X1 = FeatureGenerator.fit_transform(X1)"
   ],
   "metadata": {
    "collapsed": false,
    "ExecuteTime": {
     "end_time": "2024-02-05T04:34:39.919610400Z",
     "start_time": "2024-02-05T04:34:39.693762900Z"
    }
   }
  },
  {
   "cell_type": "code",
   "execution_count": 107,
   "outputs": [],
   "source": [
    "X1 = encoder.transform(X1)"
   ],
   "metadata": {
    "collapsed": false,
    "ExecuteTime": {
     "end_time": "2024-02-05T04:34:42.339455700Z",
     "start_time": "2024-02-05T04:34:42.131639200Z"
    }
   }
  },
  {
   "cell_type": "code",
   "execution_count": 108,
   "outputs": [],
   "source": [
    "X_test = torch.tensor(X1.values, dtype=torch.float32).to('cpu')"
   ],
   "metadata": {
    "collapsed": false,
    "ExecuteTime": {
     "end_time": "2024-02-05T04:34:46.713342100Z",
     "start_time": "2024-02-05T04:34:46.693878100Z"
    }
   }
  },
  {
   "cell_type": "code",
   "execution_count": 109,
   "outputs": [
    {
     "data": {
      "text/plain": "<All keys matched successfully>"
     },
     "execution_count": 109,
     "metadata": {},
     "output_type": "execute_result"
    }
   ],
   "source": [
    "model = Binary(X_test.shape[1]).to(\"cpu\")\n",
    "model.load_state_dict(torch.load('model1.pt'))"
   ],
   "metadata": {
    "collapsed": false,
    "ExecuteTime": {
     "end_time": "2024-02-05T04:34:52.880965200Z",
     "start_time": "2024-02-05T04:34:52.846812800Z"
    }
   }
  },
  {
   "cell_type": "code",
   "execution_count": 110,
   "outputs": [
    {
     "name": "stdout",
     "output_type": "stream",
     "text": [
      "[[0.43148905]\n",
      " [0.63408345]\n",
      " [0.5924464 ]\n",
      " ...\n",
      " [0.55604136]\n",
      " [0.48224604]\n",
      " [0.5078084 ]]\n"
     ]
    }
   ],
   "source": [
    "model = Binary(X_test.shape[1]).to(\"cpu\")\n",
    "# Make predictions on the test data\n",
    "with torch.no_grad():\n",
    "    test_predictions = model(X_test)\n",
    "\n",
    "# Convert the predictions to numpy array\n",
    "test_predictions = test_predictions.cpu().numpy()\n",
    "\n",
    "# Print the predictions\n",
    "print(test_predictions)"
   ],
   "metadata": {
    "collapsed": false,
    "ExecuteTime": {
     "end_time": "2024-02-05T04:35:12.782757600Z",
     "start_time": "2024-02-05T04:35:12.720549Z"
    }
   }
  },
  {
   "cell_type": "markdown",
   "source": [
    "## 模型的区分能力不够，需要进一步优化\n",
    "1. 优化模型结构\n",
    "2. 加深训练次数"
   ],
   "metadata": {
    "collapsed": false
   }
  }
 ],
 "metadata": {
  "kernelspec": {
   "display_name": "sklearn",
   "language": "python",
   "name": "python3"
  },
  "language_info": {
   "codemirror_mode": {
    "name": "ipython",
    "version": 3
   },
   "file_extension": ".py",
   "mimetype": "text/x-python",
   "name": "python",
   "nbconvert_exporter": "python",
   "pygments_lexer": "ipython3",
   "version": "3.8.18"
  }
 },
 "nbformat": 4,
 "nbformat_minor": 2
}
