{
 "cells": [
  {
   "cell_type": "markdown",
   "metadata": {},
   "source": [
    "\n",
    "\n",
    "\n",
    "\n",
    "\n",
    "\n",
    "\n",
    "# AAA书的经验"
   ]
  },
  {
   "cell_type": "markdown",
   "source": [
    "概论(如何创建一个ai的项目)\n",
    "1. 确定是有监督/无监督的类型还是有监督的类型\n",
    "2. 取定问题是回归还是分类问题\n",
    "3. 处理数据，分析数据\n",
    "4. 选择一个交叉验证的方法\n",
    "5. 选择一个评价指标\n",
    "6. 选择一个基准模型\n",
    "7. 选择一个特征选择的方法\n",
    "8. 选择一个特征工程的方法\n",
    "9. 超参优化\n",
    "10. 模型组合和堆叠"
   ],
   "metadata": {
    "collapsed": false
   }
  },
  {
   "cell_type": "markdown",
   "source": [
    "## 有监督学习和无监督学习是机器学习的两种主要类型。\n",
    "\n",
    "有监督学习\n",
    "* 监督数据：总是有一个或多个与之相关的目标\n",
    "* 有监督学习可以进一步分为两类：分类和回归。在分类中，我们试图预测离散响应。在回归中，我们试图预测连续响应。\n",
    "\n",
    "无监督学习\n",
    "* 目标是通过对数据的结构或分布的建模来学习更多关于数据的信息。无监督学习可以分为聚类和降维。\n",
    "* 聚类是用于找出数据中的隐藏模式或组，而降维是用于减少数据的维度。"
   ],
   "metadata": {
    "collapsed": false
   }
  },
  {
   "cell_type": "markdown",
   "metadata": {},
   "source": [
    "## 交叉验证（如果你有一个好的交叉检验方案，其中验证数据能够代表训练数据和真实世界的数据，那么你就能建立一个具有高度通用性的好的机器学习模型）\n",
    "* 过拟合，就是在训练集上表现越来越好，但是在测试集上表现变化不大。(这个表现可能是loss值，也可能是准确率)\n",
    "* 交叉验证有很多种不同的方法，它是建立良好模型时最关键的的步骤。\n",
    "* 当涉及到未见过的数据时，这是最关键的一步。\n",
    "* 验证方式是在机器学习中常用的评估模型性能的方法。\n",
    "\n",
    "1. k-fold交叉验证（k-fold cross-validation）：\n",
    "    * 将数据集分成k个子集，其中一个子集作为验证集，剩下的k-1个子集作为训练集。然后，重复k次，每次选择不同的验证集。\n",
    "    * 最后，将k次的评估结果取平均值作为模型的性能指标。\n",
    "    * 这种方法的优点是，所有的数据都被用于训练和验证，每个样本都被验证一次。这种方法的缺点是，计算成本高。\n",
    "    * 在数据量足够的情况下使用.\n",
    "\n",
    "2. 分层k-fold交叉验证（stratified k-fold cross-validation）：\n",
    "    * 与k-fold交叉验证类似，但在划分数据集时会保持每个子集中不同类别样本的比例与原始数据集中的比例相同。\n",
    "    * 这对于处理不平衡数据集非常有用。\n",
    "\n",
    "3. 留出验证（hold-out based validation）：\n",
    "    * 将数据集划分为训练集和验证集两部分。训练集用于训练模型，验证集用于评估模型性能。\n",
    "    * 通常，将数据集的一部分（例如，80%）用作训练集，剩下的一部分（例如，20%）用作验证集。\n",
    "    * 在数据量小的时候用\n",
    "\n",
    "4. 留一验证（leave-one-out cross-validation）：\n",
    "    * 将每个样本作为验证集，其他样本作为训练集。这意味着对于包含n个样本的数据集，将进行n次训练和评估。\n",
    "    * 这种方法在数据集较小的情况下非常有用。\n",
    "\n",
    "5. 分组k-fold交叉验证（group k-fold cross-validation）：\n",
    "    * 适用于数据集中存在分组结构的情况，例如，根据某个属性将样本分组。在分组k-fold交叉验证中，确保每个子集中的分组样本在训练集和验证集中都有代表性。"
   ]
  },
  {
   "cell_type": "markdown",
   "metadata": {},
   "source": [
    "## 评估指标: \n",
    "模型的评估指标是用来衡量模型预测性能的工具。选择哪种评估指标取决于你的具体任务（例如，分类、回归、排序等）。\n",
    "\n",
    "1. **分类任务的评估指标**：\n",
    "    - 准确率（Accuracy）\n",
    "    - 精确度（Precision）\n",
    "    - 召回率（Recall）\n",
    "    - F1 分数（F1 Score）\n",
    "    - ROC 曲线下面积（AUC-ROC）\n",
    "    - 对数损失（Log Loss）\n",
    "\n",
    "2. **回归任务的评估指标**：\n",
    "    - 平均绝对误差（Mean Absolute Error，MAE）\n",
    "    - 均方误差（Mean Squared Error，MSE）\n",
    "    - 均方根误差（Root Mean Squared Error，RMSE）\n",
    "    - 均方根对数误差（Root Mean Squared Logarithmic Error，RMSLE）\n",
    "    - 平均绝对百分比误差（Mean Absolute Percentage Error，MAPE）\n",
    "    - R2 分数\n",
    "\n",
    "3. **排序任务的评估指标**：\n",
    "    - 平均准确率（Mean Average Precision，MAP）\n",
    "    - 正确率@k（Precision@k）\n",
    "    - 平均准确率@k（Average Precision@k）\n",
    "    - 平均准确率（Mean Average Precision）\n"
   ]
  },
  {
   "cell_type": "markdown",
   "source": [
    "## 处理分类变量\n",
    "\n",
    "- 无序变量是指有两个或两个以上类别的变量，这些类别没有任何相关顺序\n",
    "- 有序变量则有 \"等级 \"或类别，并有特定的顺序，还有二元变量,循环变量\n",
    "\n",
    "对数据进行编码的方法：\n",
    "\n",
    "1. **标签编码（Label Encoding）**：这种方法将每个唯一的类别标签映射到一个整数。例如，如果你有一个名为“颜色”的特征，它有三个类别：“红色”，“蓝色”和“绿色”。在标签编码后，它们可能被表示为0，1和2。\n",
    "\n",
    "        ```python\n",
    "        from sklearn.preprocessing import LabelEncoder\n",
    "        le = LabelEncoder()\n",
    "        data['color'] = le.fit_transform(data['color'])\n",
    "        ```\n",
    "\n",
    "2. **独热编码（One-Hot Encoding）**：这种方法为每个类别创建一个新的二进制特征。例如，对于上述的“颜色”特征，独热编码会创建三个新的特征：“是红色”，“是蓝色”和“是绿色”。如果颜色是红色，那么“是红色”为1，其他两个特征为0。\n",
    "\n",
    "        ```python\n",
    "        data = pd.get_dummies(data, columns=['color'])\n",
    "        ```\n",
    "\n",
    "3. **二进制编码（Binary Encoding）**：这种方法首先将类别标签编码为整数，然后将这些整数转换为二进制形式。然后，每个位（0或1）都被视为一个单独的特征。\n",
    "\n",
    "        ```python\n",
    "        import category_encoders as ce\n",
    "        encoder = ce.BinaryEncoder(cols=['color'])\n",
    "        data = encoder.fit_transform(data)\n",
    "        ```\n",
    "\n",
    "4. **均值编码（Mean Encoding）**：在这种方法中，每个类别都被替换为目标变量的平均值。例如，如果我们正在预测房价，并且有一个名为“地区”的特征，那么我们可以将每个地区的平均房价作为该地区的编码。\n",
    "\n",
    "        ```python\n",
    "        mean_encode = data.groupby('neighborhood')['price'].mean()\n",
    "        data.loc[:, 'neighborhood'] = data['neighborhood'].map(mean_encode)\n",
    "        ```  "
   ],
   "metadata": {
    "collapsed": false
   }
  },
  {
   "cell_type": "markdown",
   "source": [
    "* 在机器学习中，选择哪种编码方式取决于你的数据类型和你选择的模型。以下是一些模型和它们通常使用的编码方式：\n",
    "* 在使用基于树的模型时，我们不需要对数据进行归一化处理。不过，这一点非常重要，在使用线性模型（如逻辑回归）时不容忽视\n",
    "* 对于大多数问题来说，除了独热编码和标签编码之外，你不需要更多的东西。 \n",
    "\n",
    "1. **线性模型（如线性回归，逻辑回归）**：这些模型通常需要对分类变量进行独热编码（One-Hot Encoding），因为它们不能处理分类数据。独热编码将每个类别转换为一个新的二进制特征，这样线性模型就可以处理了。\n",
    "\n",
    "    ```python\n",
    "    import pandas as pd\n",
    "    data = pd.get_dummies(data, columns=['categorical_column'])\n",
    "    ```\n",
    "\n",
    "2. **决策树和基于树的模型（如随机森林，梯度提升）**：这些模型可以直接处理分类变量，不需要进行编码。但在某些情况下，使用标签编码（Label Encoding）可以提高模型的性能。\n",
    "\n",
    "    ```python\n",
    "    from sklearn.preprocessing import LabelEncoder\n",
    "    le = LabelEncoder()\n",
    "    data['categorical_column'] = le.fit_transform(data['categorical_column'])\n",
    "    ```\n",
    "\n",
    "3. **神经网络模型**：这些模型通常需要对分类变量进行独热编码，因为它们不能处理分类数据。\n",
    "\n",
    "    ```python\n",
    "    data = pd.get_dummies(data, columns=['categorical_column'])\n",
    "    ```\n",
    "\n",
    "4. **距离基础的模型（如K-近邻）**：这些模型通常需要对分类变量进行独热编码或二进制编码，因为它们是基于距离的，不能直接处理分类数据。\n",
    "\n",
    "    ```python\n",
    "    data = pd.get_dummies(data, columns=['categorical_column'])\n",
    "    ```"
   ],
   "metadata": {
    "collapsed": false
   }
  },
  {
   "cell_type": "markdown",
   "source": [
    "实体嵌入（Entity Embedding）是一种将类别变量转换为连续向量的技术，常用于深度学习模型中。这种方法可以捕捉和表示类别变量中的复杂模式，而不仅仅是简单的类别标签。例如，如果我们有一个名为“城市”的特征，它有数千个不同的类别。使用独热编码可能会导致数据维度过高，而使用实体嵌入，我们可以将每个城市表示为一个连续的向量，这个向量可以通过训练数据学习得到。\n",
    "\n",
    "在PyTorch中，实体嵌入可以通过使用嵌入层（Embedding layer）来实现。嵌入层可以将每个类别映射到一个固定大小的向量。\n",
    "\n",
    "降维技术（Dimensionality Reduction）是一种减少数据维度的方法，常用于处理高维数据。降维可以帮助我们减少数据的复杂性，提高计算效率，同时也可以帮助我们更好地理解数据的结构和模式。常见的降维技术包括主成分分析（PCA）、线性判别分析（LDA）和t-分布邻域嵌入算法（t-SNE）等。\n"
   ],
   "metadata": {
    "collapsed": false
   }
  },
  {
   "cell_type": "markdown",
   "metadata": {},
   "source": [
    "## 特征工程\n",
    "* 特征工程是构建良好机器学习模型的最关键部分之一。\n",
    "* 特征工程不仅仅是从数据中创建新特征，还包括不同类型的归一化和转换\n",
    "* 特征融合是一种常用的特征工程技术，它通过组合原始特征来创建新的特征，以提高模型的预测性能。以下是一些常见的特征融合方法：  \n",
    "    * 算术组合：这包括加法、减法、乘法和除法等基本算术运算。例如，如果我们有两个特征A和B，我们可以创建一个新的特征C = A + B或D = A * B等。  \n",
    "    * 统计组合：这包括求和、平均、最大值、最小值等统计运算。例如，如果我们有一个特征集合{A, B, C}，我们可以创建一个新的特征D = mean(A, B, C)或E = max(A, B, C)等。  \n",
    "    * 非线性组合：这包括平方、开方、对数等非线性运算。例如，如果我们有一个特征A，我们可以创建一个新的特征B = log(A)或C = sqrt(A)等\n",
    "* 请务必记住，对于基于树的模型，没有必要进行数值归一化，因为它们可以自行处理。\n",
    "* knn处理缺失值\n",
    "* 另一种弥补列缺失值的方法是训练回归模型，试图根据其他列预测某列的缺失值。这种方法称为回归插补（regression imputation）。\n",
    "* 将数字转换为类别。这就是所谓的分箱。一种数据预处理技差，主要用于连续型变量的离散化。它的主要思想是将一组连续的数值分割成一系列的\"箱子\"，然后将原始数值替换为对应箱子的标签。分箱可以帮助我们处理噪声数据，同时也可以改善模型的解释性。在Python中，可以使用pandas库的cut或qcut函数进行分箱操作\n",
    "* 多项式特征是一种特征工程技术，用于生成特征的高阶项和交互项。这种方法可以帮助模型学习数据中的复杂模式，特别是对于线性模型来说，多项式特征可以增加模型的复杂性和灵活性。  在Python的sklearn.preprocessing库中，可以使用PolynomialFeatures类来生成多项式特征。\n",
    "\n",
    "## 特征选择\n",
    "* 选择特征的最简单方法是删除方差非常小的特征。如果特征的方差非常小（即非常接近于 0），它们就接近于常量，因此根本不会给任何模型增加任何价值。最好的办法就是去掉它们，从而降低复杂度。\n",
    "* 请注意，方差也取决于数据的缩放。\n",
    "* 单变量特征选择方法。单变量特征选择只不过是针对给定目标对每个特征进行评分。互信息、方差分析 F 检验和 chi2 是一些最常用的单变量特征选择方法。\n",
    "  * 在 scikit- learn 中，有两种方法可以使用这些方法。\n",
    "    - SelectKBest：保留得分最高的 k 个特征 \n",
    "    - SelectPercentile：保留用户指定百分比内的顶级特征。\n",
    "* 使用模型进行特征选择的最简单形式被称为贪婪特征选择。\n",
    "* 在贪婪特征选择中:\n",
    "    * 第一步是选择一个模型。\n",
    "    * 第二步是选择损失/评分函数。\n",
    "    * 第三步也是最后一步是反复评估每个特征，如果能提高损失/评分，就将其添加到 \"好 \"特征列表中。\n",
    "* 一种贪婪的方法被称为递归特征消除法（RFE）。\n",
    "    * 在 RFE 中，我们从所有特征开始，在每次迭代中不断去除一个对给定模型提供最小值的特征。\n",
    "    * 当进行递归特征剔除时，在每次迭代中，我们都会剔除特征重要性较高的特征或系数接近 0 的特征\n",
    "* 使用 L1（Lasso）惩罚模型进行特征选择。当我们使用 L1 惩罚进行正则化时，大部分系数都将为 0（或接近 0），因此我们要选择系数不为 0 的特征。只需将模型选择片段中的随机森林替换为支持 L1 惩罚的模型（如 lasso 回归）即可。\n",
    "* 在进行特征选择时必须小心谨慎。在训练数据上选择特征，并在验证数据上验证模型，以便在不过度拟合模型的情况下正确选择特征"
   ]
  },
  {
   "cell_type": "markdown",
   "source": [
    "## 超参数优化\n",
    "* 网格搜索,是一种用于超参数优化的方法，它通过遍历给定的超参数组合来找到最优的模型参数\n",
    "    \n",
    "* 随机搜索，我们随机选择一个参数组合，然后计算交叉验证得分。这里消耗的时间比网格搜索少，因为我们不对所有不同的参数组合进行评估\n",
    "\n",
    "* 管道：一种用于简化机器学习工作流程的工具。它将多个处理步骤（如数据预处理、特征选择、模型训练等）封装在一起，使得整个流程更加清晰，同时也方便了参数的调整和模型的评估。\n",
    "* 可以使用不同类型的最小化算法来研究函数的最小化。这可以通过使用多种最小化函数来实现，如下坡单纯形算法、内尔德-梅德优化算法、使用贝叶斯技术和高斯过程寻找最优参数或使用遗传算法。\n",
    "    最小化算法是一种寻找函数最小值的方法。在机器学习和数据科学中，最小化算法常用于优化模型参数，以最小化损失函数。以下是一些常见的最小化算法：\n",
    "\n",
    "    1. **梯度下降（Gradient Descent）**：这是最常用的最小化算法，它通过计算函数在当前点的梯度（即导数），然后沿着梯度的反方向更新参数，以此来逐步找到函数的最小值。\n",
    "    \n",
    "    2. **牛顿法（Newton's Method）**：这是一种基于二阶导数（即Hessian矩阵）的最小化算法，它比梯度下降更快，但计算复杂度更高。\n",
    "    \n",
    "    3. **共轭梯度法（Conjugate Gradient Method）**：这是一种改进的梯度下降方法，它通过在每一步中引入一个新的搜索方向，来加速收敛速度。\n",
    "    \n",
    "    4. **随机梯度下降（Stochastic Gradient Descent）**：这是一种改进的梯度下降方法，它在每一步中只使用一个样本来计算梯度，这样可以大大减少计算量。\n",
    "    \n",
    "    5. **模拟退火（Simulated Annealing）**：这是一种启发式的最小化算法，它通过模拟物理中的退火过程，来寻找函数的全局最小值。\n",
    "    \n",
    "    6. **遗传算法（Genetic Algorithm）**：这是一种基于自然选择和遗传学原理的最小化算法，它通过模拟生物进化过程，来寻找函数的全局最小值。\n",
    "    \n",
    "    在Python中，可以使用`scipy.optimize`库中的函数来实现这些最小化算法。例如，使用梯度下降法来最小化一个函数，可以使用`scipy.optimize.minimize`函数：\n",
    "* 虽然这些方法已经存在，但学习时必须从手动调整超参数开始，即手工调整。手动调整可以帮助你学习基础知识，例如，在梯度提升中，当你增加深度时，你应该降低学习率。如果使用自动工具，就无法学习到这一点。请参考下表，了解应如何调整。\n",
    "* 创建大型模型或引入大量特征时，也容易造成训练数据的过度拟合。为避免过度拟合，需要在训练数据特征中引入噪声或对代价函数进行惩罚。这种惩罚称为正则化，有助于泛化模型。在线性模型中，最常见的正则化类型是 L1 和 L2。L1 也称为 Lasso 回归，L2 称为 Ridge 回归。\n",
    "\n",
    "![Example Image](./超参.png)\n"
   ],
   "metadata": {
    "collapsed": false
   }
  },
  {
   "cell_type": "markdown",
   "source": [
    "## 组合和堆叠\n",
    "* 如果有三个人在猜大象的高度，那么原始高度将非常接近三个人猜测的平均值。我们假设这些人都能猜到非常接近大象原来的高度。接近估计值意味着误差，但如果我们将三个预测值平均，就能将误差降到最低。这就是多个模型平均的主要思想。\n",
    "* 组合（ensembling）不过是不同模型的组合。模型可以通过预测/概率进行组合。\n",
    "    * 组合的第一条规则是，在开始合奏之前，一定要先创建折叠。\n",
    "    * 组合的第二条规则是，在开始合奏之前，一定要先创建折叠。\n",
    "    * 折叠 1 上训练随机森林模型、逻辑回归模型和 xgboost 模型，并在折叠 2 上进行预测。之后，我们在折叠 2 上从头开始训练模型，并在折叠 1 上进行预测。这样，我们就为所有训练数据创建了预测结果。现在，为了合并这些模型，我们将折叠 1 和折叠 1 的所有预测数据合并在一起，然后创建一个优化函数，试图找到最佳权重，以便针对折叠 2 的目标最小化误差或最大化 AUC。因此，我们是用三个模型的预测概率在折叠 1 上训练一个优化模型，然后在折叠 2 上对其进行评估。\n",
    "\n",
    "* 堆叠\n",
    "  - 将训练数据分成若干折叠。 \n",
    "    - 训练一堆模型： M1、M2.....Mn。 \n",
    "    - 创建完整的训练预测（使用非折叠训练），并使用所有这些模型进行测试预测。 \n",
    "    - 直到这里是第 1 层 (L1)。 \n",
    "    - 将这些模型的折叠预测作为另一个模型的特征。这就是二级模型（L2）。 \n",
    "    - 使用与之前相同的折叠来训练这个 L2 模型。 \n",
    "    - 现在，在训练集和测试集上创建 OOF（折叠外）预测。 \n",
    "    - 现在您就有了训练数据的 L2 预测和最终测试集预测。\n",
    "    ![Example Image](./堆叠.png)\n",
    "    \n"
   ],
   "metadata": {
    "collapsed": false
   }
  },
  {
   "cell_type": "markdown",
   "source": [
    "这个图就是这本书提出的模型思想\n",
    "![Example Image](./模型.png)"
   ],
   "metadata": {
    "collapsed": false
   }
  },
  {
   "cell_type": "markdown",
   "source": [],
   "metadata": {
    "collapsed": false
   }
  },
  {
   "cell_type": "markdown",
   "source": [
    "对于个种模型的选择，特征工程的选择，超参优化的选择，组合和堆叠的选择，都是需要根据具体的问题来选择的，没有一个固定的模式，需要根据具体的问题来选择,在实践中要多尝试，多实践，多总结。"
   ],
   "metadata": {
    "collapsed": false
   }
  },
  {
   "cell_type": "code",
   "execution_count": null,
   "outputs": [],
   "source": [],
   "metadata": {
    "collapsed": false,
    "ExecuteTime": {
     "end_time": "2024-02-04T12:24:22.846780400Z",
     "start_time": "2024-02-04T12:24:22.691864200Z"
    }
   }
  },
  {
   "cell_type": "code",
   "execution_count": null,
   "outputs": [],
   "source": [],
   "metadata": {
    "collapsed": false,
    "ExecuteTime": {
     "end_time": "2024-02-04T12:24:22.883370200Z",
     "start_time": "2024-02-04T12:24:22.776510900Z"
    }
   }
  },
  {
   "cell_type": "code",
   "execution_count": null,
   "outputs": [],
   "source": [],
   "metadata": {
    "collapsed": false,
    "ExecuteTime": {
     "end_time": "2024-02-04T12:24:22.927916900Z",
     "start_time": "2024-02-04T12:24:22.886478100Z"
    }
   }
  },
  {
   "cell_type": "code",
   "execution_count": null,
   "outputs": [],
   "source": [],
   "metadata": {
    "collapsed": false,
    "ExecuteTime": {
     "end_time": "2024-02-04T12:24:22.938451700Z",
     "start_time": "2024-02-04T12:24:22.931904900Z"
    }
   }
  },
  {
   "cell_type": "code",
   "execution_count": null,
   "outputs": [],
   "source": [],
   "metadata": {
    "collapsed": false,
    "ExecuteTime": {
     "end_time": "2024-02-04T12:24:22.954140200Z",
     "start_time": "2024-02-04T12:24:22.943620200Z"
    }
   }
  },
  {
   "cell_type": "code",
   "execution_count": null,
   "outputs": [],
   "source": [],
   "metadata": {
    "collapsed": false,
    "ExecuteTime": {
     "end_time": "2024-02-04T12:24:22.984768400Z",
     "start_time": "2024-02-04T12:24:22.955140200Z"
    }
   }
  },
  {
   "cell_type": "code",
   "execution_count": null,
   "outputs": [],
   "source": [],
   "metadata": {
    "collapsed": false,
    "ExecuteTime": {
     "end_time": "2024-02-04T12:24:22.992870300Z",
     "start_time": "2024-02-04T12:24:22.970099300Z"
    }
   }
  },
  {
   "cell_type": "code",
   "execution_count": null,
   "outputs": [],
   "source": [],
   "metadata": {
    "collapsed": false,
    "ExecuteTime": {
     "end_time": "2024-02-04T12:24:23.012477800Z",
     "start_time": "2024-02-04T12:24:22.987747200Z"
    }
   }
  },
  {
   "cell_type": "code",
   "execution_count": null,
   "outputs": [],
   "source": [],
   "metadata": {
    "collapsed": false,
    "ExecuteTime": {
     "end_time": "2024-02-04T12:24:23.015982700Z",
     "start_time": "2024-02-04T12:24:23.000364400Z"
    }
   }
  },
  {
   "cell_type": "code",
   "execution_count": null,
   "outputs": [],
   "source": [],
   "metadata": {
    "collapsed": false,
    "ExecuteTime": {
     "end_time": "2024-02-04T12:24:23.042647100Z",
     "start_time": "2024-02-04T12:24:23.019602300Z"
    }
   }
  },
  {
   "cell_type": "code",
   "execution_count": null,
   "outputs": [],
   "source": [],
   "metadata": {
    "collapsed": false,
    "ExecuteTime": {
     "end_time": "2024-02-04T12:24:23.052884500Z",
     "start_time": "2024-02-04T12:24:23.033010900Z"
    }
   }
  },
  {
   "cell_type": "code",
   "execution_count": null,
   "outputs": [],
   "source": [],
   "metadata": {
    "collapsed": false,
    "ExecuteTime": {
     "end_time": "2024-02-04T12:24:23.066394900Z",
     "start_time": "2024-02-04T12:24:23.049631100Z"
    }
   }
  },
  {
   "cell_type": "code",
   "execution_count": null,
   "outputs": [],
   "source": [],
   "metadata": {
    "collapsed": false,
    "ExecuteTime": {
     "end_time": "2024-02-04T12:24:23.085799500Z",
     "start_time": "2024-02-04T12:24:23.060399200Z"
    }
   }
  },
  {
   "cell_type": "code",
   "execution_count": null,
   "outputs": [],
   "source": [],
   "metadata": {
    "collapsed": false,
    "ExecuteTime": {
     "end_time": "2024-02-04T12:24:23.099929600Z",
     "start_time": "2024-02-04T12:24:23.075219300Z"
    }
   }
  },
  {
   "cell_type": "code",
   "execution_count": null,
   "outputs": [],
   "source": [],
   "metadata": {
    "collapsed": false,
    "ExecuteTime": {
     "end_time": "2024-02-04T12:24:23.119520300Z",
     "start_time": "2024-02-04T12:24:23.089850300Z"
    }
   }
  },
  {
   "cell_type": "code",
   "execution_count": null,
   "outputs": [],
   "source": [],
   "metadata": {
    "collapsed": false,
    "ExecuteTime": {
     "end_time": "2024-02-04T12:24:23.128795400Z",
     "start_time": "2024-02-04T12:24:23.105937100Z"
    }
   }
  },
  {
   "cell_type": "code",
   "execution_count": null,
   "outputs": [],
   "source": [],
   "metadata": {
    "collapsed": false,
    "ExecuteTime": {
     "end_time": "2024-02-04T12:24:23.144674200Z",
     "start_time": "2024-02-04T12:24:23.120525Z"
    }
   }
  },
  {
   "cell_type": "code",
   "execution_count": null,
   "outputs": [],
   "source": [],
   "metadata": {
    "collapsed": false,
    "ExecuteTime": {
     "end_time": "2024-02-04T12:24:23.164515200Z",
     "start_time": "2024-02-04T12:24:23.136346600Z"
    }
   }
  },
  {
   "cell_type": "code",
   "execution_count": null,
   "outputs": [],
   "source": [],
   "metadata": {
    "collapsed": false,
    "ExecuteTime": {
     "end_time": "2024-02-04T12:24:23.184577Z",
     "start_time": "2024-02-04T12:24:23.151983Z"
    }
   }
  },
  {
   "cell_type": "code",
   "execution_count": null,
   "outputs": [],
   "source": [],
   "metadata": {
    "collapsed": false,
    "ExecuteTime": {
     "end_time": "2024-02-04T12:24:23.198084400Z",
     "start_time": "2024-02-04T12:24:23.168515Z"
    }
   }
  },
  {
   "cell_type": "code",
   "execution_count": null,
   "outputs": [],
   "source": [],
   "metadata": {
    "collapsed": false,
    "ExecuteTime": {
     "end_time": "2024-02-04T12:24:23.201630700Z",
     "start_time": "2024-02-04T12:24:23.183601600Z"
    }
   }
  },
  {
   "cell_type": "code",
   "execution_count": null,
   "outputs": [],
   "source": [],
   "metadata": {
    "collapsed": false,
    "ExecuteTime": {
     "end_time": "2024-02-04T12:24:23.226478300Z",
     "start_time": "2024-02-04T12:24:23.199687300Z"
    }
   }
  },
  {
   "cell_type": "code",
   "execution_count": null,
   "outputs": [],
   "source": [],
   "metadata": {
    "collapsed": false,
    "ExecuteTime": {
     "end_time": "2024-02-04T12:24:23.239665700Z",
     "start_time": "2024-02-04T12:24:23.214389500Z"
    }
   }
  },
  {
   "cell_type": "code",
   "execution_count": null,
   "outputs": [],
   "source": [],
   "metadata": {
    "collapsed": false,
    "ExecuteTime": {
     "end_time": "2024-02-04T12:24:23.264377500Z",
     "start_time": "2024-02-04T12:24:23.229984300Z"
    }
   }
  },
  {
   "cell_type": "code",
   "execution_count": null,
   "outputs": [],
   "source": [],
   "metadata": {
    "collapsed": false,
    "ExecuteTime": {
     "end_time": "2024-02-04T12:24:23.265376900Z",
     "start_time": "2024-02-04T12:24:23.246536700Z"
    }
   }
  },
  {
   "cell_type": "code",
   "execution_count": null,
   "outputs": [],
   "source": [],
   "metadata": {
    "collapsed": false,
    "ExecuteTime": {
     "end_time": "2024-02-04T12:24:23.294506600Z",
     "start_time": "2024-02-04T12:24:23.260863700Z"
    }
   }
  },
  {
   "cell_type": "code",
   "execution_count": null,
   "outputs": [],
   "source": [],
   "metadata": {
    "collapsed": false,
    "ExecuteTime": {
     "end_time": "2024-02-04T12:24:23.298988300Z",
     "start_time": "2024-02-04T12:24:23.276922400Z"
    }
   }
  },
  {
   "cell_type": "code",
   "execution_count": null,
   "outputs": [],
   "source": [],
   "metadata": {
    "collapsed": false,
    "ExecuteTime": {
     "end_time": "2024-02-04T12:24:23.313047700Z",
     "start_time": "2024-02-04T12:24:23.292502800Z"
    }
   }
  },
  {
   "cell_type": "code",
   "execution_count": null,
   "outputs": [],
   "source": [],
   "metadata": {
    "collapsed": false,
    "ExecuteTime": {
     "end_time": "2024-02-04T12:24:23.352411500Z",
     "start_time": "2024-02-04T12:24:23.308513600Z"
    }
   }
  },
  {
   "cell_type": "code",
   "execution_count": null,
   "outputs": [],
   "source": [],
   "metadata": {
    "collapsed": false,
    "ExecuteTime": {
     "end_time": "2024-02-04T12:24:23.356411600Z",
     "start_time": "2024-02-04T12:24:23.323744100Z"
    }
   }
  },
  {
   "cell_type": "code",
   "execution_count": null,
   "outputs": [],
   "source": [],
   "metadata": {
    "collapsed": false,
    "ExecuteTime": {
     "end_time": "2024-02-04T12:24:23.387963500Z",
     "start_time": "2024-02-04T12:24:23.338722800Z"
    }
   }
  },
  {
   "cell_type": "code",
   "execution_count": null,
   "outputs": [],
   "source": [],
   "metadata": {
    "collapsed": false,
    "ExecuteTime": {
     "end_time": "2024-02-04T12:24:23.397658500Z",
     "start_time": "2024-02-04T12:24:23.353412300Z"
    }
   }
  },
  {
   "cell_type": "code",
   "execution_count": null,
   "outputs": [],
   "source": [],
   "metadata": {
    "collapsed": false,
    "ExecuteTime": {
     "end_time": "2024-02-04T12:24:23.418691100Z",
     "start_time": "2024-02-04T12:24:23.369385200Z"
    }
   }
  },
  {
   "cell_type": "code",
   "execution_count": null,
   "outputs": [],
   "source": [],
   "metadata": {
    "collapsed": false,
    "ExecuteTime": {
     "end_time": "2024-02-04T12:24:23.423796400Z",
     "start_time": "2024-02-04T12:24:23.384962500Z"
    }
   }
  },
  {
   "cell_type": "code",
   "execution_count": null,
   "outputs": [],
   "source": [],
   "metadata": {
    "collapsed": false,
    "ExecuteTime": {
     "end_time": "2024-02-04T12:24:23.434304700Z",
     "start_time": "2024-02-04T12:24:23.401089900Z"
    }
   }
  },
  {
   "cell_type": "code",
   "execution_count": null,
   "outputs": [],
   "source": [],
   "metadata": {
    "collapsed": false,
    "ExecuteTime": {
     "end_time": "2024-02-04T12:24:23.468254100Z",
     "start_time": "2024-02-04T12:24:23.428795900Z"
    }
   }
  },
  {
   "cell_type": "code",
   "execution_count": null,
   "outputs": [],
   "source": [],
   "metadata": {
    "collapsed": false,
    "ExecuteTime": {
     "end_time": "2024-02-04T12:24:23.482162700Z",
     "start_time": "2024-02-04T12:24:23.462699600Z"
    }
   }
  },
  {
   "cell_type": "code",
   "execution_count": null,
   "outputs": [],
   "source": [],
   "metadata": {
    "collapsed": false,
    "ExecuteTime": {
     "end_time": "2024-02-04T12:24:23.509771300Z",
     "start_time": "2024-02-04T12:24:23.481155800Z"
    }
   }
  },
  {
   "cell_type": "code",
   "execution_count": null,
   "outputs": [],
   "source": [],
   "metadata": {
    "collapsed": false,
    "ExecuteTime": {
     "end_time": "2024-02-04T12:24:23.513641700Z",
     "start_time": "2024-02-04T12:24:23.494526300Z"
    }
   }
  },
  {
   "cell_type": "code",
   "execution_count": null,
   "outputs": [],
   "source": [],
   "metadata": {
    "collapsed": false,
    "ExecuteTime": {
     "end_time": "2024-02-04T12:24:23.533294700Z",
     "start_time": "2024-02-04T12:24:23.510621800Z"
    }
   }
  },
  {
   "cell_type": "code",
   "execution_count": null,
   "outputs": [],
   "source": [],
   "metadata": {
    "collapsed": false,
    "ExecuteTime": {
     "end_time": "2024-02-04T12:24:23.551395500Z",
     "start_time": "2024-02-04T12:24:23.526750100Z"
    }
   }
  },
  {
   "cell_type": "code",
   "execution_count": null,
   "outputs": [],
   "source": [],
   "metadata": {
    "collapsed": false,
    "ExecuteTime": {
     "end_time": "2024-02-04T12:24:23.569314800Z",
     "start_time": "2024-02-04T12:24:23.541826100Z"
    }
   }
  },
  {
   "cell_type": "code",
   "execution_count": null,
   "outputs": [],
   "source": [],
   "metadata": {
    "collapsed": false,
    "ExecuteTime": {
     "end_time": "2024-02-04T12:24:23.584320700Z",
     "start_time": "2024-02-04T12:24:23.559226600Z"
    }
   }
  },
  {
   "cell_type": "code",
   "execution_count": null,
   "outputs": [],
   "source": [],
   "metadata": {
    "collapsed": false,
    "ExecuteTime": {
     "end_time": "2024-02-04T12:24:23.588218Z",
     "start_time": "2024-02-04T12:24:23.572633200Z"
    }
   }
  },
  {
   "cell_type": "code",
   "execution_count": 1,
   "outputs": [
    {
     "data": {
      "text/plain": "444444444433333333333333333333333333111111"
     },
     "execution_count": 1,
     "metadata": {},
     "output_type": "execute_result"
    }
   ],
   "source": [
    "444444444433333333333333333333333333111111"
   ],
   "metadata": {
    "collapsed": false,
    "ExecuteTime": {
     "end_time": "2024-02-04T12:24:50.562319700Z",
     "start_time": "2024-02-04T12:24:50.537930800Z"
    }
   }
  },
  {
   "cell_type": "code",
   "execution_count": null,
   "outputs": [],
   "source": [
    "4p"
   ],
   "metadata": {
    "collapsed": false
   }
  }
 ],
 "metadata": {
  "kernelspec": {
   "display_name": "sklearn",
   "language": "python",
   "name": "python3"
  },
  "language_info": {
   "name": "python",
   "version": "3.8.18"
  }
 },
 "nbformat": 4,
 "nbformat_minor": 2
}
