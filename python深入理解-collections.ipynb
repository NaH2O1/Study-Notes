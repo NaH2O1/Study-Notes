{
 "cells": [
  {
   "cell_type": "markdown",
   "metadata": {},
   "source": [
    "`collections` 是Python 的一个内置模块，它包含了许多用于创建和操作容器类型的类和函数。以下是一些 `collections` 模块中的主要组件：\n",
    "- `namedtuple()`：生成可以使用名字来访问元素的元组子类\n",
    "- `deque`：双端队列，可以快速的从另外一侧追加和弹出\n",
    "- `Counter`：字典的子类，提供了可哈希对象的计数功能\n",
    "- `OrderedDict`：字典的子类，保持了他们被添加的顺序\n",
    "- `defaultdict`：字典的子类，提供了一个工厂函数为字典查询提供默认值"
   ]
  },
  {
   "cell_type": "markdown",
   "metadata": {},
   "source": [
    "## counter类\n",
    "- 一个计数器工具提供快速和方便的计数，Counter是一个dict的子类，用于计数可哈希对象。"
   ]
  },
  {
   "cell_type": "code",
   "execution_count": 4,
   "metadata": {},
   "outputs": [
    {
     "name": "stdout",
     "output_type": "stream",
     "text": [
      "Counter({'blue': 3, 'red': 2, 'green': 1})\n",
      "Counter({'a': 3, 'l': 2, 'g': 1, 'h': 1, 'd': 1})\n",
      "Counter({'red': 4, 'blue': 2})\n"
     ]
    }
   ],
   "source": [
    "from collections import Counter\n",
    "L = ['red', 'blue', 'red', 'green', 'blue', 'blue'] \n",
    "print(Counter(L))\n",
    "#字符串计数\n",
    "print(Counter('gallahad')) \n",
    "#字典计数\n",
    "#字典计数\n",
    "print(Counter({'red': 4, 'blue': 2}))  "
   ]
  },
  {
   "cell_type": "code",
   "execution_count": 6,
   "metadata": {},
   "outputs": [
    {
     "data": {
      "text/plain": [
       "['a', 'a', 'a', 'a', 'b', 'b']"
      ]
     },
     "execution_count": 6,
     "metadata": {},
     "output_type": "execute_result"
    }
   ],
   "source": [
    "# 1、elements()\n",
    "# 描述：返回一个迭代器，其中每个元素将重复出现计数值所指定次。 元素会按首次出现的顺序返回。 如果一个元素的计数值小于1，elements() 将会忽略它。\n",
    "c = Counter(a=4, b=2, c=0, d=-2)\n",
    "list(c.elements())"
   ]
  },
  {
   "cell_type": "code",
   "execution_count": 8,
   "metadata": {},
   "outputs": [
    {
     "data": {
      "text/plain": [
       "[('a', 5), ('b', 2), ('r', 2), ('c', 1), ('d', 1)]"
      ]
     },
     "execution_count": 8,
     "metadata": {},
     "output_type": "execute_result"
    }
   ],
   "source": [
    "#2、most_common()\n",
    "#返回一个列表，其中包含n个最常见的元素及出现次数，按常见程度由高到低排序。\n",
    "Counter('abracadabra').most_common()"
   ]
  },
  {
   "cell_type": "code",
   "execution_count": 9,
   "metadata": {},
   "outputs": [
    {
     "data": {
      "text/plain": [
       "Counter({'a': 3, 'b': 0, 'c': -3, 'd': -6})"
      ]
     },
     "execution_count": 9,
     "metadata": {},
     "output_type": "execute_result"
    }
   ],
   "source": [
    "#3、subtract()\n",
    "#从迭代对象或映射对象减去元素。像dict.update() 但是是减去，而不是替换。输入和输出都可以是0或者负数。\n",
    "c = Counter(a=4, b=2, c=0, d=-2)\n",
    "d = Counter(a=1, b=2, c=3, d=4)\n",
    "c.subtract(d)\n",
    "c\n",
    "\n",
    "#减去一个abcd\n",
    "str0 = Counter('aabbccdde')\n",
    "str0.subtract('abcd')\n",
    "str0"
   ]
  },
  {
   "cell_type": "code",
   "execution_count": null,
   "metadata": {},
   "outputs": [],
   "source": [
    "#5、数学操作\n",
    "c = Counter(a=3, b=1)\n",
    "d = Counter(a=1, b=2)\n",
    "c + d                       # add two counters together:  c[x] + d[x]\n",
    "Counter({'a': 4, 'b': 3})\n",
    "c - d                       # subtract (keeping only positive counts)\n",
    "Counter({'a': 2})\n",
    "c & d                       # intersection:  min(c[x], d[x]) \n",
    "Counter({'a': 1, 'b': 1})\n",
    "c | d                       # union:  max(c[x], d[x])\n",
    "Counter({'a': 3, 'b': 2})\n",
    "c = Counter(a=2, b=-4)\n",
    "+c\n",
    "Counter({'a': 2})\n",
    "-c\n",
    "Counter({'b': 4})"
   ]
  },
  {
   "cell_type": "code",
   "execution_count": 11,
   "metadata": {},
   "outputs": [
    {
     "name": "stdout",
     "output_type": "stream",
     "text": [
      "dict_keys(['name', 'age', 'gender'])\n",
      "dict_values(['Alice', 25, 'F'])\n",
      "dict_items([('name', 'Alice'), ('age', 25), ('gender', 'F')])\n",
      "25\n",
      "F\n",
      "('age', 25)\n",
      "{}\n",
      "{'name': 'Alice', 'age': 25, 'gender': 'F'}\n",
      "{}\n",
      "{'name': 'unknown', 'age': 'unknown', 'gender': 'unknown'}\n"
     ]
    }
   ],
   "source": [
    "#字典的操作可用于Counter\n",
    "my_dict = {'name': 'Alice', 'age': 25, 'gender': 'F'}\n",
    "\n",
    "# 使用keys()函数获取字典的所有键\n",
    "keys = my_dict.keys()\n",
    "print(keys)  # 输出：dict_keys(['name', 'age', 'gender'])\n",
    "\n",
    "# 使用values()函数获取字典的所有值\n",
    "values = my_dict.values()\n",
    "print(values)  # 输出：dict_values(['Alice', 25, 'F'])\n",
    "\n",
    "# 使用items()函数获取字典的所有键值对\n",
    "items = my_dict.items()\n",
    "print(items)  # 输出：dict_items([('name', 'Alice'), ('age', 25), ('gender', 'F')])\n",
    "\n",
    "# 使用get()函数获取指定键的值\n",
    "age = my_dict.get('age')\n",
    "print(age)  # 输出：25\n",
    "\n",
    "# 使用pop()函数删除并返回指定键的值\n",
    "gender = my_dict.pop('gender')\n",
    "print(gender)  # 输出：F\n",
    "\n",
    "# 使用popitem()函数随机删除并返回字典中的一对键值对\n",
    "item = my_dict.popitem()\n",
    "print(item)  # 输出：('age', 25)\n",
    "\n",
    "# 使用clear()函数删除字典中的所有元素\n",
    "my_dict.clear()\n",
    "print(my_dict)  # 输出：{}\n",
    "\n",
    "# 使用update()函数将字典2的键值对更新到字典1中，这个counter不能使用\n",
    "dict1 = {'name': 'Alice', 'age': 25}\n",
    "dict2 = {'gender': 'F'}\n",
    "dict1.update(dict2)\n",
    "print(dict1)  # 输出：{'name': 'Alice', 'age': 25, 'gender': 'F'}\n",
    "\n",
    "# 使用copy()函数返回字典的浅拷贝副本\n",
    "dict_copy = my_dict.copy()\n",
    "print(dict_copy)  # 输出：{}\n",
    "\n",
    "keys = ['name', 'age', 'gender']\n",
    "default_value = 'unknown'\n",
    "\n",
    "# 使用 fromkeys 创建一个新的字典，counter不能使用\n",
    "new_dict = dict.fromkeys(keys, default_value)\n",
    "print(new_dict)  # 输出：{'name': 'unknown', 'age': 'unknown', 'gender': 'unknown'}"
   ]
  },
  {
   "cell_type": "markdown",
   "metadata": {},
   "source": [
    "这些新容器与传统的类型不能混用"
   ]
  },
  {
   "cell_type": "markdown",
   "metadata": {},
   "source": [
    "## 双向队列-deque\n",
    "- 双端队列，可以快速的从另外一侧追加和推出对象,deque是一个双向链表，针对list连续的数据结构插入和删除进行优化\n",
    "- 总之，如果在序列的两端快速插入和删除，而且随机存取并不是优先事项，那么 deques 是更好的选择。但是，如果需要随机访问或更广泛的内置函数，则列表更为合适。\n",
    "\n",
    "\n",
    "| dque | list |对比|\n",
    "| ------- | ------- | ------- |\n",
    "| dque() | list() | 基本一致，只是字符不同 |\n",
    "| append() | append() | 基本一致，但dque有appendleft函数 |\n",
    "| exten() | extend()| 基本一致，但dque有extendleft函数|\n",
    "| pop() | pop() | 基本一致，但dque有popleft函数|\n",
    "| rotate(n=1) | 无 | 向右循环移动 n 步。 如果 n 是负数，就向左循环|\n",
    "| remove(value) | remove(value) |  基本一致|\n",
    "| reverse() | reverse()| 基本一致|\n",
    "| index() | index() | 基本一致，返回 x 在数组中的位置 |\n",
    "| insert() | insert() | 基本一致,在位置 i 插入 x |\n",
    "| reverse() | reverse() |基本一致,逆序排列|\n",
    "| sort() | sort() | 基本一致,顺序排列|\n",
    "| copy() | copy() | 基本一致,创建一份浅拷贝 |\n",
    "| count() | count() | 基本一致,计算数组中元素 x 的个数|\n",
    "| clear() | clear() | 基本一致,清空数组|\n",
    "| len() | len() | 基本一致,计算数组长度|"
   ]
  },
  {
   "cell_type": "markdown",
   "metadata": {},
   "source": [
    "## 有序词典就像常规词典一样，但有一些与排序操作相关的额外功能\n",
    "\n",
    "|传统字典方法 | OrderedDict方法 | 对比|\n",
    "|--- | --- | ---|\n",
    "|clear() | clear() | 基本一致，清除字典中的所有元素 |\n",
    "|copy() | copy() | 基本一致，创建字典的浅层副本\n",
    "|fromkeys() | fromkeys() |基本一致，用于创建一个具有指定键和默认值的新字典|\n",
    "|get() | get() | 基本一致，用于检索指定键的值|\n",
    "|items() | items() | 基本一致，用于返回字典中键值对的列表|\n",
    "|keys() | keys() |基本一致，用于返回字典中的键列表\n",
    "|pop() | pop() | 基本一致，用于删除并返回指定键的值|\n",
    "|popitem() | popitem() | OrderedDict 类的 popitem() 方法有不同的签名。它接受一个可选参数来指定弹出哪个元素|\n",
    "|setdefault() | setdefault() | 基本一致，用于检索指定键的值|\n",
    "|update() | update() | 基本一致，可以用另一个字典中的键值对更新字典|\n",
    "|values() | values() | 基本一致，用于返回字典中的值列表|\n",
    "|无|move_to_end() | 可以有效地将元素移动到任一端|\n"
   ]
  },
  {
   "cell_type": "code",
   "execution_count": 24,
   "metadata": {},
   "outputs": [
    {
     "name": "stdout",
     "output_type": "stream",
     "text": [
      "Alice\n",
      "Unknown\n",
      "{'name': 'Alice', 'age': 25, 'gender': 'Unknown'}\n"
     ]
    }
   ],
   "source": [
    "# Create a dictionary\n",
    "my_dict = {'name': 'Alice', 'age': 25}\n",
    "\n",
    "# Use setdefault() to get the value of a key\n",
    "name = my_dict.setdefault('name', 'Unknown')\n",
    "print(name)  # Output: Alice\n",
    "\n",
    "# Use setdefault() to get the value of a non-existing key\n",
    "gender = my_dict.setdefault('gender', 'Unknown')\n",
    "print(gender)  # Output: Unknown\n",
    "\n",
    "# Print the updated dictionary\n",
    "print(my_dict)  # Output: {'name': 'Alice', 'age': 25, 'gender': 'Unknown'}\n"
   ]
  },
  {
   "cell_type": "code",
   "execution_count": null,
   "metadata": {},
   "outputs": [],
   "source": [
    "# 使用 fromkeys 创建一个新的字典，counter不能使用\n",
    "new_dict = dict.fromkeys(keys, default_value)\n",
    "print(new_dict)  # 输出：{'name': 'unknown', 'age': 'unknown', 'gender': 'unknown'}"
   ]
  },
  {
   "cell_type": "code",
   "execution_count": null,
   "metadata": {},
   "outputs": [],
   "source": [
    "# Create a dictionary\n",
    "my_dict = {'name': 'Alice', 'age': 25, 'gender': 'F'}\n",
    "\n",
    "# Use get() to retrieve the value of a key\n",
    "name = my_dict.get('name')\n",
    "print(name)  # Output: Alice\n",
    "\n",
    "# Use get() with a default value for a non-existing key\n",
    "country = my_dict.get('country', 'Unknown')\n",
    "print(country)  # Output: Unknown\n",
    "\n",
    "# Print the updated dictionary\n",
    "print(my_dict)  # Output: {'name': 'Alice', 'age': 25, 'gender': 'F'}"
   ]
  },
  {
   "cell_type": "code",
   "execution_count": null,
   "metadata": {},
   "outputs": [],
   "source": [
    "# 使用update()函数将字典2的键值对更新到字典1中，这个counter不能使用\n",
    "dict1 = {'name': 'Alice', 'age': 25}\n",
    "dict2 = {'gender': 'F'}\n",
    "dict1.update(dict2)\n",
    "print(dict1)  # 输出：{'name': 'Alice', 'age': 25, 'gender': 'F'}"
   ]
  }
 ],
 "metadata": {
  "kernelspec": {
   "display_name": "sklearn",
   "language": "python",
   "name": "python3"
  },
  "language_info": {
   "codemirror_mode": {
    "name": "ipython",
    "version": 3
   },
   "file_extension": ".py",
   "mimetype": "text/x-python",
   "name": "python",
   "nbconvert_exporter": "python",
   "pygments_lexer": "ipython3",
   "version": "3.8.18"
  }
 },
 "nbformat": 4,
 "nbformat_minor": 2
}
